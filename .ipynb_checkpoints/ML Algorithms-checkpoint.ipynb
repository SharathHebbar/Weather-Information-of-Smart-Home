{
 "cells": [
  {
   "cell_type": "markdown",
   "id": "6586394e",
   "metadata": {},
   "source": [
    "# Refer smarthome.ipynb dataset for data cleansing"
   ]
  },
  {
   "cell_type": "markdown",
   "id": "b8737313",
   "metadata": {},
   "source": [
    "### Loading cleansed dataset"
   ]
  },
  {
   "cell_type": "code",
   "execution_count": 3,
   "id": "c690cb54",
   "metadata": {},
   "outputs": [],
   "source": [
    "import pandas as pd\n",
    "import numpy as np\n",
    "from sklearn.model_selection import train_test_split"
   ]
  },
  {
   "cell_type": "code",
   "execution_count": 4,
   "id": "4421a8ed",
   "metadata": {
    "scrolled": false
   },
   "outputs": [
    {
     "data": {
      "text/html": [
       "<div>\n",
       "<style scoped>\n",
       "    .dataframe tbody tr th:only-of-type {\n",
       "        vertical-align: middle;\n",
       "    }\n",
       "\n",
       "    .dataframe tbody tr th {\n",
       "        vertical-align: top;\n",
       "    }\n",
       "\n",
       "    .dataframe thead th {\n",
       "        text-align: right;\n",
       "    }\n",
       "</style>\n",
       "<table border=\"1\" class=\"dataframe\">\n",
       "  <thead>\n",
       "    <tr style=\"text-align: right;\">\n",
       "      <th></th>\n",
       "      <th>Unnamed: 0</th>\n",
       "      <th>use [kW]</th>\n",
       "      <th>gen [kW]</th>\n",
       "      <th>House overall [kW]</th>\n",
       "      <th>Dishwasher [kW]</th>\n",
       "      <th>Furnace 1 [kW]</th>\n",
       "      <th>Furnace 2 [kW]</th>\n",
       "      <th>Home office [kW]</th>\n",
       "      <th>Fridge [kW]</th>\n",
       "      <th>Wine cellar [kW]</th>\n",
       "      <th>...</th>\n",
       "      <th>visibility</th>\n",
       "      <th>apparentTemperature</th>\n",
       "      <th>pressure</th>\n",
       "      <th>windSpeed</th>\n",
       "      <th>windBearing</th>\n",
       "      <th>precipIntensity</th>\n",
       "      <th>dewPoint</th>\n",
       "      <th>summary</th>\n",
       "      <th>icon</th>\n",
       "      <th>precipProbability</th>\n",
       "    </tr>\n",
       "  </thead>\n",
       "  <tbody>\n",
       "    <tr>\n",
       "      <th>0</th>\n",
       "      <td>0</td>\n",
       "      <td>0.932833</td>\n",
       "      <td>0.003483</td>\n",
       "      <td>0.932833</td>\n",
       "      <td>0.000033</td>\n",
       "      <td>0.020700</td>\n",
       "      <td>0.061917</td>\n",
       "      <td>0.442633</td>\n",
       "      <td>0.124150</td>\n",
       "      <td>0.006983</td>\n",
       "      <td>...</td>\n",
       "      <td>10.0</td>\n",
       "      <td>29.26</td>\n",
       "      <td>1016.91</td>\n",
       "      <td>9.18</td>\n",
       "      <td>282.0</td>\n",
       "      <td>0.0</td>\n",
       "      <td>24.4</td>\n",
       "      <td>3</td>\n",
       "      <td>1</td>\n",
       "      <td>0.0</td>\n",
       "    </tr>\n",
       "    <tr>\n",
       "      <th>1</th>\n",
       "      <td>1</td>\n",
       "      <td>0.934333</td>\n",
       "      <td>0.003467</td>\n",
       "      <td>0.934333</td>\n",
       "      <td>0.000000</td>\n",
       "      <td>0.020717</td>\n",
       "      <td>0.063817</td>\n",
       "      <td>0.444067</td>\n",
       "      <td>0.124000</td>\n",
       "      <td>0.006983</td>\n",
       "      <td>...</td>\n",
       "      <td>10.0</td>\n",
       "      <td>29.26</td>\n",
       "      <td>1016.91</td>\n",
       "      <td>9.18</td>\n",
       "      <td>282.0</td>\n",
       "      <td>0.0</td>\n",
       "      <td>24.4</td>\n",
       "      <td>3</td>\n",
       "      <td>1</td>\n",
       "      <td>0.0</td>\n",
       "    </tr>\n",
       "    <tr>\n",
       "      <th>2</th>\n",
       "      <td>2</td>\n",
       "      <td>0.931817</td>\n",
       "      <td>0.003467</td>\n",
       "      <td>0.931817</td>\n",
       "      <td>0.000017</td>\n",
       "      <td>0.020700</td>\n",
       "      <td>0.062317</td>\n",
       "      <td>0.446067</td>\n",
       "      <td>0.123533</td>\n",
       "      <td>0.006983</td>\n",
       "      <td>...</td>\n",
       "      <td>10.0</td>\n",
       "      <td>29.26</td>\n",
       "      <td>1016.91</td>\n",
       "      <td>9.18</td>\n",
       "      <td>282.0</td>\n",
       "      <td>0.0</td>\n",
       "      <td>24.4</td>\n",
       "      <td>3</td>\n",
       "      <td>1</td>\n",
       "      <td>0.0</td>\n",
       "    </tr>\n",
       "    <tr>\n",
       "      <th>3</th>\n",
       "      <td>3</td>\n",
       "      <td>1.022050</td>\n",
       "      <td>0.003483</td>\n",
       "      <td>1.022050</td>\n",
       "      <td>0.000017</td>\n",
       "      <td>0.106900</td>\n",
       "      <td>0.068517</td>\n",
       "      <td>0.446583</td>\n",
       "      <td>0.123133</td>\n",
       "      <td>0.006983</td>\n",
       "      <td>...</td>\n",
       "      <td>10.0</td>\n",
       "      <td>29.26</td>\n",
       "      <td>1016.91</td>\n",
       "      <td>9.18</td>\n",
       "      <td>282.0</td>\n",
       "      <td>0.0</td>\n",
       "      <td>24.4</td>\n",
       "      <td>3</td>\n",
       "      <td>1</td>\n",
       "      <td>0.0</td>\n",
       "    </tr>\n",
       "    <tr>\n",
       "      <th>4</th>\n",
       "      <td>4</td>\n",
       "      <td>1.139400</td>\n",
       "      <td>0.003467</td>\n",
       "      <td>1.139400</td>\n",
       "      <td>0.000133</td>\n",
       "      <td>0.236933</td>\n",
       "      <td>0.063983</td>\n",
       "      <td>0.446533</td>\n",
       "      <td>0.122850</td>\n",
       "      <td>0.006850</td>\n",
       "      <td>...</td>\n",
       "      <td>10.0</td>\n",
       "      <td>29.26</td>\n",
       "      <td>1016.91</td>\n",
       "      <td>9.18</td>\n",
       "      <td>282.0</td>\n",
       "      <td>0.0</td>\n",
       "      <td>24.4</td>\n",
       "      <td>3</td>\n",
       "      <td>1</td>\n",
       "      <td>0.0</td>\n",
       "    </tr>\n",
       "  </tbody>\n",
       "</table>\n",
       "<p>5 rows × 31 columns</p>\n",
       "</div>"
      ],
      "text/plain": [
       "   Unnamed: 0  use [kW]  gen [kW]  House overall [kW]  Dishwasher [kW]  \\\n",
       "0           0  0.932833  0.003483            0.932833         0.000033   \n",
       "1           1  0.934333  0.003467            0.934333         0.000000   \n",
       "2           2  0.931817  0.003467            0.931817         0.000017   \n",
       "3           3  1.022050  0.003483            1.022050         0.000017   \n",
       "4           4  1.139400  0.003467            1.139400         0.000133   \n",
       "\n",
       "   Furnace 1 [kW]  Furnace 2 [kW]  Home office [kW]  Fridge [kW]  \\\n",
       "0        0.020700        0.061917          0.442633     0.124150   \n",
       "1        0.020717        0.063817          0.444067     0.124000   \n",
       "2        0.020700        0.062317          0.446067     0.123533   \n",
       "3        0.106900        0.068517          0.446583     0.123133   \n",
       "4        0.236933        0.063983          0.446533     0.122850   \n",
       "\n",
       "   Wine cellar [kW]  ...  visibility  apparentTemperature  pressure  \\\n",
       "0          0.006983  ...        10.0                29.26   1016.91   \n",
       "1          0.006983  ...        10.0                29.26   1016.91   \n",
       "2          0.006983  ...        10.0                29.26   1016.91   \n",
       "3          0.006983  ...        10.0                29.26   1016.91   \n",
       "4          0.006850  ...        10.0                29.26   1016.91   \n",
       "\n",
       "   windSpeed  windBearing  precipIntensity  dewPoint  summary  icon  \\\n",
       "0       9.18        282.0              0.0      24.4        3     1   \n",
       "1       9.18        282.0              0.0      24.4        3     1   \n",
       "2       9.18        282.0              0.0      24.4        3     1   \n",
       "3       9.18        282.0              0.0      24.4        3     1   \n",
       "4       9.18        282.0              0.0      24.4        3     1   \n",
       "\n",
       "   precipProbability  \n",
       "0                0.0  \n",
       "1                0.0  \n",
       "2                0.0  \n",
       "3                0.0  \n",
       "4                0.0  \n",
       "\n",
       "[5 rows x 31 columns]"
      ]
     },
     "execution_count": 4,
     "metadata": {},
     "output_type": "execute_result"
    }
   ],
   "source": [
    "df = pd.read_csv('C:\\\\projects\\\\ml\\\\0.datasets\\\\smarthomedatasets\\\\homedataset.csv')\n",
    "df.head()"
   ]
  },
  {
   "cell_type": "code",
   "execution_count": 5,
   "id": "37a78c6b",
   "metadata": {},
   "outputs": [
    {
     "data": {
      "text/html": [
       "<div>\n",
       "<style scoped>\n",
       "    .dataframe tbody tr th:only-of-type {\n",
       "        vertical-align: middle;\n",
       "    }\n",
       "\n",
       "    .dataframe tbody tr th {\n",
       "        vertical-align: top;\n",
       "    }\n",
       "\n",
       "    .dataframe thead th {\n",
       "        text-align: right;\n",
       "    }\n",
       "</style>\n",
       "<table border=\"1\" class=\"dataframe\">\n",
       "  <thead>\n",
       "    <tr style=\"text-align: right;\">\n",
       "      <th></th>\n",
       "      <th>use [kW]</th>\n",
       "      <th>gen [kW]</th>\n",
       "      <th>House overall [kW]</th>\n",
       "      <th>Dishwasher [kW]</th>\n",
       "      <th>Furnace 1 [kW]</th>\n",
       "      <th>Furnace 2 [kW]</th>\n",
       "      <th>Home office [kW]</th>\n",
       "      <th>Fridge [kW]</th>\n",
       "      <th>Wine cellar [kW]</th>\n",
       "      <th>Garage door [kW]</th>\n",
       "      <th>...</th>\n",
       "      <th>visibility</th>\n",
       "      <th>apparentTemperature</th>\n",
       "      <th>pressure</th>\n",
       "      <th>windSpeed</th>\n",
       "      <th>windBearing</th>\n",
       "      <th>precipIntensity</th>\n",
       "      <th>dewPoint</th>\n",
       "      <th>summary</th>\n",
       "      <th>icon</th>\n",
       "      <th>precipProbability</th>\n",
       "    </tr>\n",
       "  </thead>\n",
       "  <tbody>\n",
       "    <tr>\n",
       "      <th>0</th>\n",
       "      <td>0.932833</td>\n",
       "      <td>0.003483</td>\n",
       "      <td>0.932833</td>\n",
       "      <td>0.000033</td>\n",
       "      <td>0.020700</td>\n",
       "      <td>0.061917</td>\n",
       "      <td>0.442633</td>\n",
       "      <td>0.124150</td>\n",
       "      <td>0.006983</td>\n",
       "      <td>0.013083</td>\n",
       "      <td>...</td>\n",
       "      <td>10.0</td>\n",
       "      <td>29.26</td>\n",
       "      <td>1016.91</td>\n",
       "      <td>9.18</td>\n",
       "      <td>282.0</td>\n",
       "      <td>0.0</td>\n",
       "      <td>24.4</td>\n",
       "      <td>3</td>\n",
       "      <td>1</td>\n",
       "      <td>0.0</td>\n",
       "    </tr>\n",
       "    <tr>\n",
       "      <th>1</th>\n",
       "      <td>0.934333</td>\n",
       "      <td>0.003467</td>\n",
       "      <td>0.934333</td>\n",
       "      <td>0.000000</td>\n",
       "      <td>0.020717</td>\n",
       "      <td>0.063817</td>\n",
       "      <td>0.444067</td>\n",
       "      <td>0.124000</td>\n",
       "      <td>0.006983</td>\n",
       "      <td>0.013117</td>\n",
       "      <td>...</td>\n",
       "      <td>10.0</td>\n",
       "      <td>29.26</td>\n",
       "      <td>1016.91</td>\n",
       "      <td>9.18</td>\n",
       "      <td>282.0</td>\n",
       "      <td>0.0</td>\n",
       "      <td>24.4</td>\n",
       "      <td>3</td>\n",
       "      <td>1</td>\n",
       "      <td>0.0</td>\n",
       "    </tr>\n",
       "    <tr>\n",
       "      <th>2</th>\n",
       "      <td>0.931817</td>\n",
       "      <td>0.003467</td>\n",
       "      <td>0.931817</td>\n",
       "      <td>0.000017</td>\n",
       "      <td>0.020700</td>\n",
       "      <td>0.062317</td>\n",
       "      <td>0.446067</td>\n",
       "      <td>0.123533</td>\n",
       "      <td>0.006983</td>\n",
       "      <td>0.013083</td>\n",
       "      <td>...</td>\n",
       "      <td>10.0</td>\n",
       "      <td>29.26</td>\n",
       "      <td>1016.91</td>\n",
       "      <td>9.18</td>\n",
       "      <td>282.0</td>\n",
       "      <td>0.0</td>\n",
       "      <td>24.4</td>\n",
       "      <td>3</td>\n",
       "      <td>1</td>\n",
       "      <td>0.0</td>\n",
       "    </tr>\n",
       "    <tr>\n",
       "      <th>3</th>\n",
       "      <td>1.022050</td>\n",
       "      <td>0.003483</td>\n",
       "      <td>1.022050</td>\n",
       "      <td>0.000017</td>\n",
       "      <td>0.106900</td>\n",
       "      <td>0.068517</td>\n",
       "      <td>0.446583</td>\n",
       "      <td>0.123133</td>\n",
       "      <td>0.006983</td>\n",
       "      <td>0.013000</td>\n",
       "      <td>...</td>\n",
       "      <td>10.0</td>\n",
       "      <td>29.26</td>\n",
       "      <td>1016.91</td>\n",
       "      <td>9.18</td>\n",
       "      <td>282.0</td>\n",
       "      <td>0.0</td>\n",
       "      <td>24.4</td>\n",
       "      <td>3</td>\n",
       "      <td>1</td>\n",
       "      <td>0.0</td>\n",
       "    </tr>\n",
       "    <tr>\n",
       "      <th>4</th>\n",
       "      <td>1.139400</td>\n",
       "      <td>0.003467</td>\n",
       "      <td>1.139400</td>\n",
       "      <td>0.000133</td>\n",
       "      <td>0.236933</td>\n",
       "      <td>0.063983</td>\n",
       "      <td>0.446533</td>\n",
       "      <td>0.122850</td>\n",
       "      <td>0.006850</td>\n",
       "      <td>0.012783</td>\n",
       "      <td>...</td>\n",
       "      <td>10.0</td>\n",
       "      <td>29.26</td>\n",
       "      <td>1016.91</td>\n",
       "      <td>9.18</td>\n",
       "      <td>282.0</td>\n",
       "      <td>0.0</td>\n",
       "      <td>24.4</td>\n",
       "      <td>3</td>\n",
       "      <td>1</td>\n",
       "      <td>0.0</td>\n",
       "    </tr>\n",
       "  </tbody>\n",
       "</table>\n",
       "<p>5 rows × 30 columns</p>\n",
       "</div>"
      ],
      "text/plain": [
       "   use [kW]  gen [kW]  House overall [kW]  Dishwasher [kW]  Furnace 1 [kW]  \\\n",
       "0  0.932833  0.003483            0.932833         0.000033        0.020700   \n",
       "1  0.934333  0.003467            0.934333         0.000000        0.020717   \n",
       "2  0.931817  0.003467            0.931817         0.000017        0.020700   \n",
       "3  1.022050  0.003483            1.022050         0.000017        0.106900   \n",
       "4  1.139400  0.003467            1.139400         0.000133        0.236933   \n",
       "\n",
       "   Furnace 2 [kW]  Home office [kW]  Fridge [kW]  Wine cellar [kW]  \\\n",
       "0        0.061917          0.442633     0.124150          0.006983   \n",
       "1        0.063817          0.444067     0.124000          0.006983   \n",
       "2        0.062317          0.446067     0.123533          0.006983   \n",
       "3        0.068517          0.446583     0.123133          0.006983   \n",
       "4        0.063983          0.446533     0.122850          0.006850   \n",
       "\n",
       "   Garage door [kW]  ...  visibility  apparentTemperature  pressure  \\\n",
       "0          0.013083  ...        10.0                29.26   1016.91   \n",
       "1          0.013117  ...        10.0                29.26   1016.91   \n",
       "2          0.013083  ...        10.0                29.26   1016.91   \n",
       "3          0.013000  ...        10.0                29.26   1016.91   \n",
       "4          0.012783  ...        10.0                29.26   1016.91   \n",
       "\n",
       "   windSpeed  windBearing  precipIntensity  dewPoint  summary  icon  \\\n",
       "0       9.18        282.0              0.0      24.4        3     1   \n",
       "1       9.18        282.0              0.0      24.4        3     1   \n",
       "2       9.18        282.0              0.0      24.4        3     1   \n",
       "3       9.18        282.0              0.0      24.4        3     1   \n",
       "4       9.18        282.0              0.0      24.4        3     1   \n",
       "\n",
       "   precipProbability  \n",
       "0                0.0  \n",
       "1                0.0  \n",
       "2                0.0  \n",
       "3                0.0  \n",
       "4                0.0  \n",
       "\n",
       "[5 rows x 30 columns]"
      ]
     },
     "execution_count": 5,
     "metadata": {},
     "output_type": "execute_result"
    }
   ],
   "source": [
    "df.drop(columns = \"Unnamed: 0\", inplace = True)\n",
    "df.head()"
   ]
  },
  {
   "cell_type": "code",
   "execution_count": 6,
   "id": "05c44380",
   "metadata": {},
   "outputs": [
    {
     "name": "stdout",
     "output_type": "stream",
     "text": [
      "<class 'pandas.core.frame.DataFrame'>\n",
      "RangeIndex: 503910 entries, 0 to 503909\n",
      "Data columns (total 30 columns):\n",
      " #   Column               Non-Null Count   Dtype  \n",
      "---  ------               --------------   -----  \n",
      " 0   use [kW]             503910 non-null  float64\n",
      " 1   gen [kW]             503910 non-null  float64\n",
      " 2   House overall [kW]   503910 non-null  float64\n",
      " 3   Dishwasher [kW]      503910 non-null  float64\n",
      " 4   Furnace 1 [kW]       503910 non-null  float64\n",
      " 5   Furnace 2 [kW]       503910 non-null  float64\n",
      " 6   Home office [kW]     503910 non-null  float64\n",
      " 7   Fridge [kW]          503910 non-null  float64\n",
      " 8   Wine cellar [kW]     503910 non-null  float64\n",
      " 9   Garage door [kW]     503910 non-null  float64\n",
      " 10  Kitchen 12 [kW]      503910 non-null  float64\n",
      " 11  Kitchen 14 [kW]      503910 non-null  float64\n",
      " 12  Kitchen 38 [kW]      503910 non-null  float64\n",
      " 13  Barn [kW]            503910 non-null  float64\n",
      " 14  Well [kW]            503910 non-null  float64\n",
      " 15  Microwave [kW]       503910 non-null  float64\n",
      " 16  Living room [kW]     503910 non-null  float64\n",
      " 17  Solar [kW]           503910 non-null  float64\n",
      " 18  temperature          503910 non-null  float64\n",
      " 19  humidity             503910 non-null  float64\n",
      " 20  visibility           503910 non-null  float64\n",
      " 21  apparentTemperature  503910 non-null  float64\n",
      " 22  pressure             503910 non-null  float64\n",
      " 23  windSpeed            503910 non-null  float64\n",
      " 24  windBearing          503910 non-null  float64\n",
      " 25  precipIntensity      503910 non-null  float64\n",
      " 26  dewPoint             503910 non-null  float64\n",
      " 27  summary              503910 non-null  int64  \n",
      " 28  icon                 503910 non-null  int64  \n",
      " 29  precipProbability    503910 non-null  float64\n",
      "dtypes: float64(28), int64(2)\n",
      "memory usage: 115.3 MB\n"
     ]
    }
   ],
   "source": [
    "df.info()"
   ]
  },
  {
   "cell_type": "code",
   "execution_count": 7,
   "id": "40c2fb4f",
   "metadata": {},
   "outputs": [
    {
     "data": {
      "text/html": [
       "<div>\n",
       "<style scoped>\n",
       "    .dataframe tbody tr th:only-of-type {\n",
       "        vertical-align: middle;\n",
       "    }\n",
       "\n",
       "    .dataframe tbody tr th {\n",
       "        vertical-align: top;\n",
       "    }\n",
       "\n",
       "    .dataframe thead th {\n",
       "        text-align: right;\n",
       "    }\n",
       "</style>\n",
       "<table border=\"1\" class=\"dataframe\">\n",
       "  <thead>\n",
       "    <tr style=\"text-align: right;\">\n",
       "      <th></th>\n",
       "      <th>use [kW]</th>\n",
       "      <th>gen [kW]</th>\n",
       "      <th>House overall [kW]</th>\n",
       "      <th>Dishwasher [kW]</th>\n",
       "      <th>Furnace 1 [kW]</th>\n",
       "      <th>Furnace 2 [kW]</th>\n",
       "      <th>Home office [kW]</th>\n",
       "      <th>Fridge [kW]</th>\n",
       "      <th>Wine cellar [kW]</th>\n",
       "      <th>Garage door [kW]</th>\n",
       "      <th>...</th>\n",
       "      <th>visibility</th>\n",
       "      <th>apparentTemperature</th>\n",
       "      <th>pressure</th>\n",
       "      <th>windSpeed</th>\n",
       "      <th>windBearing</th>\n",
       "      <th>precipIntensity</th>\n",
       "      <th>dewPoint</th>\n",
       "      <th>summary</th>\n",
       "      <th>icon</th>\n",
       "      <th>precipProbability</th>\n",
       "    </tr>\n",
       "  </thead>\n",
       "  <tbody>\n",
       "    <tr>\n",
       "      <th>0</th>\n",
       "      <td>0.932833</td>\n",
       "      <td>0.003483</td>\n",
       "      <td>0.932833</td>\n",
       "      <td>0.000033</td>\n",
       "      <td>0.020700</td>\n",
       "      <td>0.061917</td>\n",
       "      <td>0.442633</td>\n",
       "      <td>0.124150</td>\n",
       "      <td>0.006983</td>\n",
       "      <td>0.013083</td>\n",
       "      <td>...</td>\n",
       "      <td>10.00</td>\n",
       "      <td>29.26</td>\n",
       "      <td>1016.91</td>\n",
       "      <td>9.18</td>\n",
       "      <td>282.0</td>\n",
       "      <td>0.0000</td>\n",
       "      <td>24.40</td>\n",
       "      <td>3</td>\n",
       "      <td>1</td>\n",
       "      <td>0.00</td>\n",
       "    </tr>\n",
       "    <tr>\n",
       "      <th>1</th>\n",
       "      <td>0.934333</td>\n",
       "      <td>0.003467</td>\n",
       "      <td>0.934333</td>\n",
       "      <td>0.000000</td>\n",
       "      <td>0.020717</td>\n",
       "      <td>0.063817</td>\n",
       "      <td>0.444067</td>\n",
       "      <td>0.124000</td>\n",
       "      <td>0.006983</td>\n",
       "      <td>0.013117</td>\n",
       "      <td>...</td>\n",
       "      <td>10.00</td>\n",
       "      <td>29.26</td>\n",
       "      <td>1016.91</td>\n",
       "      <td>9.18</td>\n",
       "      <td>282.0</td>\n",
       "      <td>0.0000</td>\n",
       "      <td>24.40</td>\n",
       "      <td>3</td>\n",
       "      <td>1</td>\n",
       "      <td>0.00</td>\n",
       "    </tr>\n",
       "    <tr>\n",
       "      <th>2</th>\n",
       "      <td>0.931817</td>\n",
       "      <td>0.003467</td>\n",
       "      <td>0.931817</td>\n",
       "      <td>0.000017</td>\n",
       "      <td>0.020700</td>\n",
       "      <td>0.062317</td>\n",
       "      <td>0.446067</td>\n",
       "      <td>0.123533</td>\n",
       "      <td>0.006983</td>\n",
       "      <td>0.013083</td>\n",
       "      <td>...</td>\n",
       "      <td>10.00</td>\n",
       "      <td>29.26</td>\n",
       "      <td>1016.91</td>\n",
       "      <td>9.18</td>\n",
       "      <td>282.0</td>\n",
       "      <td>0.0000</td>\n",
       "      <td>24.40</td>\n",
       "      <td>3</td>\n",
       "      <td>1</td>\n",
       "      <td>0.00</td>\n",
       "    </tr>\n",
       "    <tr>\n",
       "      <th>3</th>\n",
       "      <td>1.022050</td>\n",
       "      <td>0.003483</td>\n",
       "      <td>1.022050</td>\n",
       "      <td>0.000017</td>\n",
       "      <td>0.106900</td>\n",
       "      <td>0.068517</td>\n",
       "      <td>0.446583</td>\n",
       "      <td>0.123133</td>\n",
       "      <td>0.006983</td>\n",
       "      <td>0.013000</td>\n",
       "      <td>...</td>\n",
       "      <td>10.00</td>\n",
       "      <td>29.26</td>\n",
       "      <td>1016.91</td>\n",
       "      <td>9.18</td>\n",
       "      <td>282.0</td>\n",
       "      <td>0.0000</td>\n",
       "      <td>24.40</td>\n",
       "      <td>3</td>\n",
       "      <td>1</td>\n",
       "      <td>0.00</td>\n",
       "    </tr>\n",
       "    <tr>\n",
       "      <th>4</th>\n",
       "      <td>1.139400</td>\n",
       "      <td>0.003467</td>\n",
       "      <td>1.139400</td>\n",
       "      <td>0.000133</td>\n",
       "      <td>0.236933</td>\n",
       "      <td>0.063983</td>\n",
       "      <td>0.446533</td>\n",
       "      <td>0.122850</td>\n",
       "      <td>0.006850</td>\n",
       "      <td>0.012783</td>\n",
       "      <td>...</td>\n",
       "      <td>10.00</td>\n",
       "      <td>29.26</td>\n",
       "      <td>1016.91</td>\n",
       "      <td>9.18</td>\n",
       "      <td>282.0</td>\n",
       "      <td>0.0000</td>\n",
       "      <td>24.40</td>\n",
       "      <td>3</td>\n",
       "      <td>1</td>\n",
       "      <td>0.00</td>\n",
       "    </tr>\n",
       "    <tr>\n",
       "      <th>...</th>\n",
       "      <td>...</td>\n",
       "      <td>...</td>\n",
       "      <td>...</td>\n",
       "      <td>...</td>\n",
       "      <td>...</td>\n",
       "      <td>...</td>\n",
       "      <td>...</td>\n",
       "      <td>...</td>\n",
       "      <td>...</td>\n",
       "      <td>...</td>\n",
       "      <td>...</td>\n",
       "      <td>...</td>\n",
       "      <td>...</td>\n",
       "      <td>...</td>\n",
       "      <td>...</td>\n",
       "      <td>...</td>\n",
       "      <td>...</td>\n",
       "      <td>...</td>\n",
       "      <td>...</td>\n",
       "      <td>...</td>\n",
       "      <td>...</td>\n",
       "    </tr>\n",
       "    <tr>\n",
       "      <th>503905</th>\n",
       "      <td>1.601233</td>\n",
       "      <td>0.003183</td>\n",
       "      <td>1.601233</td>\n",
       "      <td>0.000050</td>\n",
       "      <td>0.085267</td>\n",
       "      <td>0.642417</td>\n",
       "      <td>0.041783</td>\n",
       "      <td>0.005267</td>\n",
       "      <td>0.008667</td>\n",
       "      <td>0.013483</td>\n",
       "      <td>...</td>\n",
       "      <td>8.74</td>\n",
       "      <td>29.45</td>\n",
       "      <td>1011.49</td>\n",
       "      <td>6.72</td>\n",
       "      <td>186.0</td>\n",
       "      <td>0.0101</td>\n",
       "      <td>31.27</td>\n",
       "      <td>10</td>\n",
       "      <td>6</td>\n",
       "      <td>0.51</td>\n",
       "    </tr>\n",
       "    <tr>\n",
       "      <th>503906</th>\n",
       "      <td>1.599333</td>\n",
       "      <td>0.003233</td>\n",
       "      <td>1.599333</td>\n",
       "      <td>0.000050</td>\n",
       "      <td>0.104017</td>\n",
       "      <td>0.625033</td>\n",
       "      <td>0.041750</td>\n",
       "      <td>0.005233</td>\n",
       "      <td>0.008433</td>\n",
       "      <td>0.013433</td>\n",
       "      <td>...</td>\n",
       "      <td>8.74</td>\n",
       "      <td>29.45</td>\n",
       "      <td>1011.49</td>\n",
       "      <td>6.72</td>\n",
       "      <td>186.0</td>\n",
       "      <td>0.0101</td>\n",
       "      <td>31.27</td>\n",
       "      <td>10</td>\n",
       "      <td>6</td>\n",
       "      <td>0.51</td>\n",
       "    </tr>\n",
       "    <tr>\n",
       "      <th>503907</th>\n",
       "      <td>1.924267</td>\n",
       "      <td>0.003217</td>\n",
       "      <td>1.924267</td>\n",
       "      <td>0.000033</td>\n",
       "      <td>0.422383</td>\n",
       "      <td>0.637733</td>\n",
       "      <td>0.042033</td>\n",
       "      <td>0.004983</td>\n",
       "      <td>0.008467</td>\n",
       "      <td>0.012933</td>\n",
       "      <td>...</td>\n",
       "      <td>8.74</td>\n",
       "      <td>29.45</td>\n",
       "      <td>1011.49</td>\n",
       "      <td>6.72</td>\n",
       "      <td>186.0</td>\n",
       "      <td>0.0101</td>\n",
       "      <td>31.27</td>\n",
       "      <td>10</td>\n",
       "      <td>6</td>\n",
       "      <td>0.51</td>\n",
       "    </tr>\n",
       "    <tr>\n",
       "      <th>503908</th>\n",
       "      <td>1.978200</td>\n",
       "      <td>0.003217</td>\n",
       "      <td>1.978200</td>\n",
       "      <td>0.000050</td>\n",
       "      <td>0.495667</td>\n",
       "      <td>0.620367</td>\n",
       "      <td>0.042100</td>\n",
       "      <td>0.005333</td>\n",
       "      <td>0.008233</td>\n",
       "      <td>0.012817</td>\n",
       "      <td>...</td>\n",
       "      <td>8.74</td>\n",
       "      <td>29.45</td>\n",
       "      <td>1011.49</td>\n",
       "      <td>6.72</td>\n",
       "      <td>186.0</td>\n",
       "      <td>0.0101</td>\n",
       "      <td>31.27</td>\n",
       "      <td>10</td>\n",
       "      <td>6</td>\n",
       "      <td>0.51</td>\n",
       "    </tr>\n",
       "    <tr>\n",
       "      <th>503909</th>\n",
       "      <td>1.990950</td>\n",
       "      <td>0.003233</td>\n",
       "      <td>1.990950</td>\n",
       "      <td>0.000050</td>\n",
       "      <td>0.494700</td>\n",
       "      <td>0.634133</td>\n",
       "      <td>0.042100</td>\n",
       "      <td>0.004917</td>\n",
       "      <td>0.008133</td>\n",
       "      <td>0.012833</td>\n",
       "      <td>...</td>\n",
       "      <td>8.74</td>\n",
       "      <td>29.45</td>\n",
       "      <td>1011.49</td>\n",
       "      <td>6.72</td>\n",
       "      <td>186.0</td>\n",
       "      <td>0.0101</td>\n",
       "      <td>31.27</td>\n",
       "      <td>10</td>\n",
       "      <td>6</td>\n",
       "      <td>0.51</td>\n",
       "    </tr>\n",
       "  </tbody>\n",
       "</table>\n",
       "<p>503910 rows × 30 columns</p>\n",
       "</div>"
      ],
      "text/plain": [
       "        use [kW]  gen [kW]  House overall [kW]  Dishwasher [kW]  \\\n",
       "0       0.932833  0.003483            0.932833         0.000033   \n",
       "1       0.934333  0.003467            0.934333         0.000000   \n",
       "2       0.931817  0.003467            0.931817         0.000017   \n",
       "3       1.022050  0.003483            1.022050         0.000017   \n",
       "4       1.139400  0.003467            1.139400         0.000133   \n",
       "...          ...       ...                 ...              ...   \n",
       "503905  1.601233  0.003183            1.601233         0.000050   \n",
       "503906  1.599333  0.003233            1.599333         0.000050   \n",
       "503907  1.924267  0.003217            1.924267         0.000033   \n",
       "503908  1.978200  0.003217            1.978200         0.000050   \n",
       "503909  1.990950  0.003233            1.990950         0.000050   \n",
       "\n",
       "        Furnace 1 [kW]  Furnace 2 [kW]  Home office [kW]  Fridge [kW]  \\\n",
       "0             0.020700        0.061917          0.442633     0.124150   \n",
       "1             0.020717        0.063817          0.444067     0.124000   \n",
       "2             0.020700        0.062317          0.446067     0.123533   \n",
       "3             0.106900        0.068517          0.446583     0.123133   \n",
       "4             0.236933        0.063983          0.446533     0.122850   \n",
       "...                ...             ...               ...          ...   \n",
       "503905        0.085267        0.642417          0.041783     0.005267   \n",
       "503906        0.104017        0.625033          0.041750     0.005233   \n",
       "503907        0.422383        0.637733          0.042033     0.004983   \n",
       "503908        0.495667        0.620367          0.042100     0.005333   \n",
       "503909        0.494700        0.634133          0.042100     0.004917   \n",
       "\n",
       "        Wine cellar [kW]  Garage door [kW]  ...  visibility  \\\n",
       "0               0.006983          0.013083  ...       10.00   \n",
       "1               0.006983          0.013117  ...       10.00   \n",
       "2               0.006983          0.013083  ...       10.00   \n",
       "3               0.006983          0.013000  ...       10.00   \n",
       "4               0.006850          0.012783  ...       10.00   \n",
       "...                  ...               ...  ...         ...   \n",
       "503905          0.008667          0.013483  ...        8.74   \n",
       "503906          0.008433          0.013433  ...        8.74   \n",
       "503907          0.008467          0.012933  ...        8.74   \n",
       "503908          0.008233          0.012817  ...        8.74   \n",
       "503909          0.008133          0.012833  ...        8.74   \n",
       "\n",
       "        apparentTemperature  pressure  windSpeed  windBearing  \\\n",
       "0                     29.26   1016.91       9.18        282.0   \n",
       "1                     29.26   1016.91       9.18        282.0   \n",
       "2                     29.26   1016.91       9.18        282.0   \n",
       "3                     29.26   1016.91       9.18        282.0   \n",
       "4                     29.26   1016.91       9.18        282.0   \n",
       "...                     ...       ...        ...          ...   \n",
       "503905                29.45   1011.49       6.72        186.0   \n",
       "503906                29.45   1011.49       6.72        186.0   \n",
       "503907                29.45   1011.49       6.72        186.0   \n",
       "503908                29.45   1011.49       6.72        186.0   \n",
       "503909                29.45   1011.49       6.72        186.0   \n",
       "\n",
       "        precipIntensity  dewPoint  summary  icon  precipProbability  \n",
       "0                0.0000     24.40        3     1               0.00  \n",
       "1                0.0000     24.40        3     1               0.00  \n",
       "2                0.0000     24.40        3     1               0.00  \n",
       "3                0.0000     24.40        3     1               0.00  \n",
       "4                0.0000     24.40        3     1               0.00  \n",
       "...                 ...       ...      ...   ...                ...  \n",
       "503905           0.0101     31.27       10     6               0.51  \n",
       "503906           0.0101     31.27       10     6               0.51  \n",
       "503907           0.0101     31.27       10     6               0.51  \n",
       "503908           0.0101     31.27       10     6               0.51  \n",
       "503909           0.0101     31.27       10     6               0.51  \n",
       "\n",
       "[503910 rows x 30 columns]"
      ]
     },
     "execution_count": 7,
     "metadata": {},
     "output_type": "execute_result"
    }
   ],
   "source": [
    "df"
   ]
  },
  {
   "cell_type": "markdown",
   "id": "d0e27b27",
   "metadata": {},
   "source": [
    "### Split the data into x and y i.e features and targets"
   ]
  },
  {
   "cell_type": "code",
   "execution_count": 8,
   "id": "96bf068f",
   "metadata": {},
   "outputs": [
    {
     "data": {
      "text/plain": [
       "(array([[9.32833333e-01, 3.48333300e-03, 9.32833333e-01, ...,\n",
       "         2.44000000e+01, 3.00000000e+00, 1.00000000e+00],\n",
       "        [9.34333333e-01, 3.46666700e-03, 9.34333333e-01, ...,\n",
       "         2.44000000e+01, 3.00000000e+00, 1.00000000e+00],\n",
       "        [9.31816667e-01, 3.46666700e-03, 9.31816667e-01, ...,\n",
       "         2.44000000e+01, 3.00000000e+00, 1.00000000e+00],\n",
       "        ...,\n",
       "        [1.92426667e+00, 3.21666700e-03, 1.92426667e+00, ...,\n",
       "         3.12700000e+01, 1.00000000e+01, 6.00000000e+00],\n",
       "        [1.97820000e+00, 3.21666700e-03, 1.97820000e+00, ...,\n",
       "         3.12700000e+01, 1.00000000e+01, 6.00000000e+00],\n",
       "        [1.99095000e+00, 3.23333300e-03, 1.99095000e+00, ...,\n",
       "         3.12700000e+01, 1.00000000e+01, 6.00000000e+00]]),\n",
       " array([0.  , 0.  , 0.  , ..., 0.51, 0.51, 0.51]))"
      ]
     },
     "execution_count": 8,
     "metadata": {},
     "output_type": "execute_result"
    }
   ],
   "source": [
    "y = df.iloc[:,-1].values\n",
    "x = df.iloc[:,0:29].values\n",
    "x,y"
   ]
  },
  {
   "cell_type": "markdown",
   "id": "470a8cd6",
   "metadata": {},
   "source": [
    "### Now split the dataset into training and testing"
   ]
  },
  {
   "cell_type": "code",
   "execution_count": 9,
   "id": "c2931591",
   "metadata": {},
   "outputs": [
    {
     "data": {
      "text/plain": [
       "((377932, 29), (125978, 29), (377932,), (125978,))"
      ]
     },
     "execution_count": 9,
     "metadata": {},
     "output_type": "execute_result"
    }
   ],
   "source": [
    "x_train,x_test,y_train,y_test = train_test_split(x,y)\n",
    "x_train.shape,x_test.shape,y_train.shape,y_test.shape"
   ]
  },
  {
   "cell_type": "markdown",
   "id": "fc8e7de8",
   "metadata": {},
   "source": [
    "### Scaling the data in the range 0 to 1"
   ]
  },
  {
   "cell_type": "code",
   "execution_count": 10,
   "id": "f0ba06a6",
   "metadata": {},
   "outputs": [],
   "source": [
    "from sklearn.preprocessing import StandardScaler\n",
    "sc = StandardScaler()"
   ]
  },
  {
   "cell_type": "code",
   "execution_count": 11,
   "id": "3a6882d9",
   "metadata": {},
   "outputs": [],
   "source": [
    "x_train_sc = sc.fit_transform(x_train)"
   ]
  },
  {
   "cell_type": "code",
   "execution_count": 12,
   "id": "eebc7f81",
   "metadata": {},
   "outputs": [],
   "source": [
    "x_test_sc = sc.transform(x_test)"
   ]
  },
  {
   "cell_type": "code",
   "execution_count": 13,
   "id": "5b13b716",
   "metadata": {},
   "outputs": [
    {
     "data": {
      "text/plain": [
       "((377932, 29), (125978, 29))"
      ]
     },
     "execution_count": 13,
     "metadata": {},
     "output_type": "execute_result"
    }
   ],
   "source": [
    "x_train.shape,x_test_sc.shape"
   ]
  },
  {
   "cell_type": "code",
   "execution_count": 14,
   "id": "8954f840",
   "metadata": {},
   "outputs": [
    {
     "data": {
      "text/plain": [
       "array([0.  , 0.  , 0.  , ..., 0.51, 0.51, 0.51])"
      ]
     },
     "execution_count": 14,
     "metadata": {},
     "output_type": "execute_result"
    }
   ],
   "source": [
    "y"
   ]
  },
  {
   "cell_type": "markdown",
   "id": "8c56ca8d",
   "metadata": {},
   "source": [
    "## Applying Machine Learning Algortithms"
   ]
  },
  {
   "cell_type": "markdown",
   "id": "821bb051",
   "metadata": {},
   "source": [
    "## Linear Regression"
   ]
  },
  {
   "cell_type": "code",
   "execution_count": 15,
   "id": "e6afd858",
   "metadata": {},
   "outputs": [],
   "source": [
    "from sklearn.linear_model import LinearRegression\n"
   ]
  },
  {
   "cell_type": "markdown",
   "id": "47c081d7",
   "metadata": {},
   "source": [
    "### For Unscaled Data"
   ]
  },
  {
   "cell_type": "code",
   "execution_count": 16,
   "id": "95232412",
   "metadata": {},
   "outputs": [
    {
     "name": "stdout",
     "output_type": "stream",
     "text": [
      "Training Accuracy for unscaled dataset:  0.7886976288615848\n",
      "Testing Accuracy for unscaled dataset:  0.7901053306838769\n"
     ]
    }
   ],
   "source": [
    "lr = LinearRegression()\n",
    "lr.fit(x_train,y_train)\n",
    "train_lr_acc = lr.score(x_train,y_train)\n",
    "test_lr_acc = lr.score(x_test,y_test)\n",
    "print(\"Training Accuracy for unscaled dataset: \",train_lr_acc)\n",
    "print(\"Testing Accuracy for unscaled dataset: \",test_lr_acc)"
   ]
  },
  {
   "cell_type": "markdown",
   "id": "4b8ecb04",
   "metadata": {},
   "source": [
    "### For Scaled Data"
   ]
  },
  {
   "cell_type": "code",
   "execution_count": 17,
   "id": "20a11975",
   "metadata": {},
   "outputs": [
    {
     "name": "stdout",
     "output_type": "stream",
     "text": [
      "Training Accuracy for scaled dataset:  0.7886976347027401\n",
      "Testing Accuracy for scaled dataset:  0.7901054965513852\n"
     ]
    }
   ],
   "source": [
    "lr1 = LinearRegression()\n",
    "lr1.fit(x_train_sc,y_train)\n",
    "train_lr_sc_acc = lr1.score(x_train_sc,y_train)\n",
    "test_lr_sc_acc = lr1.score(x_test_sc,y_test)\n",
    "print(\"Training Accuracy for scaled dataset: \",train_lr_sc_acc)\n",
    "print(\"Testing Accuracy for scaled dataset: \",test_lr_sc_acc)"
   ]
  },
  {
   "cell_type": "markdown",
   "id": "6421fae5",
   "metadata": {},
   "source": [
    "## Decision Tree Regressor"
   ]
  },
  {
   "cell_type": "code",
   "execution_count": 18,
   "id": "99103639",
   "metadata": {},
   "outputs": [],
   "source": [
    "from sklearn.tree import DecisionTreeRegressor"
   ]
  },
  {
   "cell_type": "markdown",
   "id": "5a14c775",
   "metadata": {},
   "source": [
    "### For Unscaled Data"
   ]
  },
  {
   "cell_type": "code",
   "execution_count": 19,
   "id": "5d1ebafb",
   "metadata": {},
   "outputs": [
    {
     "name": "stdout",
     "output_type": "stream",
     "text": [
      "Training Accuracy for unscaled dataset:  1.0\n",
      "Testing Accuracy for unscaled dataset:  0.9999998272171434\n"
     ]
    }
   ],
   "source": [
    "dtc = DecisionTreeRegressor()\n",
    "dtc.fit(x_train,y_train)\n",
    "train_dtc_acc = dtc.score(x_train,y_train)\n",
    "test_dtc_acc = dtc.score(x_test,y_test)\n",
    "print(\"Training Accuracy for unscaled dataset: \",train_dtc_acc)\n",
    "print(\"Testing Accuracy for unscaled dataset: \",test_dtc_acc)"
   ]
  },
  {
   "cell_type": "markdown",
   "id": "495a0cfc",
   "metadata": {},
   "source": [
    "### For Scaled Data"
   ]
  },
  {
   "cell_type": "code",
   "execution_count": 20,
   "id": "72e6f732",
   "metadata": {},
   "outputs": [
    {
     "name": "stdout",
     "output_type": "stream",
     "text": [
      "Training Accuracy for unscaled dataset:  1.0\n",
      "Testing Accuracy for unscaled dataset:  0.9999998272171434\n"
     ]
    }
   ],
   "source": [
    "dtc1 = DecisionTreeRegressor()\n",
    "dtc1.fit(x_train_sc,y_train)\n",
    "train_dtc_sc_acc = dtc1.score(x_train_sc,y_train)\n",
    "test_dtc_sc_acc = dtc1.score(x_test_sc,y_test)\n",
    "print(\"Training Accuracy for unscaled dataset: \",train_dtc_sc_acc)\n",
    "print(\"Testing Accuracy for unscaled dataset: \",test_dtc_sc_acc)"
   ]
  },
  {
   "cell_type": "markdown",
   "id": "aebd8684",
   "metadata": {},
   "source": [
    "## Random Forest Regression"
   ]
  },
  {
   "cell_type": "code",
   "execution_count": 21,
   "id": "7c38d1ed",
   "metadata": {},
   "outputs": [],
   "source": [
    "from sklearn.ensemble import RandomForestRegressor\n"
   ]
  },
  {
   "cell_type": "markdown",
   "id": "595ae096",
   "metadata": {},
   "source": [
    "### For Unscaled Data"
   ]
  },
  {
   "cell_type": "code",
   "execution_count": 22,
   "id": "04da46e7",
   "metadata": {},
   "outputs": [
    {
     "name": "stdout",
     "output_type": "stream",
     "text": [
      "Training Accuracy for unscaled dataset:  0.9999999911811993\n",
      "Testing Accuracy for unscaled dataset:  0.9999998656872464\n"
     ]
    }
   ],
   "source": [
    "rfc = RandomForestRegressor()\n",
    "rfc.fit(x_train,y_train)\n",
    "train_rfc_acc = rfc.score(x_train,y_train)\n",
    "test_rfc_acc = rfc.score(x_test,y_test)\n",
    "print(\"Training Accuracy for unscaled dataset: \",train_rfc_acc)\n",
    "print(\"Testing Accuracy for unscaled dataset: \",test_rfc_acc)"
   ]
  },
  {
   "cell_type": "markdown",
   "id": "727ed2e8",
   "metadata": {},
   "source": [
    "### For Scaled Data"
   ]
  },
  {
   "cell_type": "code",
   "execution_count": 23,
   "id": "b08e4061",
   "metadata": {},
   "outputs": [
    {
     "name": "stdout",
     "output_type": "stream",
     "text": [
      "Training Accuracy for unscaled dataset:  0.9999999919620757\n",
      "Testing Accuracy for unscaled dataset:  0.999999866689387\n"
     ]
    }
   ],
   "source": [
    "rfc1 = RandomForestRegressor()\n",
    "rfc1.fit(x_train_sc,y_train)\n",
    "train_rfc_sc_acc = rfc1.score(x_train_sc,y_train)\n",
    "test_rfc_sc_acc = rfc1.score(x_test_sc,y_test)\n",
    "print(\"Training Accuracy for unscaled dataset: \",train_rfc_sc_acc)\n",
    "print(\"Testing Accuracy for unscaled dataset: \",test_rfc_sc_acc)"
   ]
  },
  {
   "cell_type": "markdown",
   "id": "df4e23bc",
   "metadata": {},
   "source": [
    "## Support Vector Machine Regressor"
   ]
  },
  {
   "cell_type": "code",
   "execution_count": 24,
   "id": "36fa7a89",
   "metadata": {},
   "outputs": [],
   "source": [
    "from sklearn.svm import SVR"
   ]
  },
  {
   "cell_type": "markdown",
   "id": "03404cf3",
   "metadata": {},
   "source": [
    "### For Unscaled Data"
   ]
  },
  {
   "cell_type": "code",
   "execution_count": null,
   "id": "6c7a3bcf",
   "metadata": {},
   "outputs": [],
   "source": [
    "# svm = SVR()\n",
    "# svm.fit(x_train,y_train)\n",
    "# train_svm_acc = svm.score(x_train,y_train)\n",
    "# test_svm_acc = svm.score(x_test,y_test)\n",
    "# print(\"Training Accuracy for unscaled dataset: \",train_svm_acc)\n",
    "# print(\"Testing Accuracy for unscaled dataset: \",test_svm_acc)"
   ]
  },
  {
   "cell_type": "markdown",
   "id": "a2998efa",
   "metadata": {},
   "source": [
    "### For Scaled Data"
   ]
  },
  {
   "cell_type": "code",
   "execution_count": 26,
   "id": "636c48d1",
   "metadata": {},
   "outputs": [
    {
     "name": "stdout",
     "output_type": "stream",
     "text": [
      "Training Accuracy for unscaled dataset:  0.904261625431864\n",
      "Testing Accuracy for unscaled dataset:  0.9028561313678564\n"
     ]
    }
   ],
   "source": [
    "svm1 = SVR()\n",
    "svm1.fit(x_train_sc,y_train)\n",
    "train_svm_sc_acc = svm1.score(x_train_sc,y_train)\n",
    "test_svm_sc_acc = svm1.score(x_test_sc,y_test)\n",
    "print(\"Training Accuracy for unscaled dataset: \",train_svm_sc_acc)\n",
    "print(\"Testing Accuracy for unscaled dataset: \",test_svm_sc_acc)"
   ]
  },
  {
   "cell_type": "code",
   "execution_count": null,
   "id": "ef51635d",
   "metadata": {},
   "outputs": [],
   "source": []
  }
 ],
 "metadata": {
  "kernelspec": {
   "display_name": "Python 3 (ipykernel)",
   "language": "python",
   "name": "python3"
  },
  "language_info": {
   "codemirror_mode": {
    "name": "ipython",
    "version": 3
   },
   "file_extension": ".py",
   "mimetype": "text/x-python",
   "name": "python",
   "nbconvert_exporter": "python",
   "pygments_lexer": "ipython3",
   "version": "3.9.6"
  }
 },
 "nbformat": 4,
 "nbformat_minor": 5
}
